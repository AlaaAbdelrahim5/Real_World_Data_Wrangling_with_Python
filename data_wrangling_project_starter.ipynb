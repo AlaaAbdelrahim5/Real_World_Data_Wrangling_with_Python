{
 "cells": [
  {
   "cell_type": "markdown",
   "metadata": {
    "id": "GNIwe5N7s0e_"
   },
   "source": [
    "# Real-world Data Wrangling"
   ]
  },
  {
   "cell_type": "markdown",
   "metadata": {
    "id": "_BG63Tpg8ep_"
   },
   "source": [
    "In this project, you will apply the skills you acquired in the course to gather and wrangle real-world data with two datasets of your choice.\n",
    "\n",
    "You will retrieve and extract the data, assess the data programmatically and visually, accross elements of data quality and structure, and implement a cleaning strategy for the data. You will then store the updated data into your selected database/data store, combine the data, and answer a research question with the datasets.\n",
    "\n",
    "Throughout the process, you are expected to:\n",
    "\n",
    "1. Explain your decisions towards methods used for gathering, assessing, cleaning, storing, and answering the research question\n",
    "2. Write code comments so your code is more readable"
   ]
  },
  {
   "cell_type": "code",
   "execution_count": 63,
   "metadata": {},
   "outputs": [],
   "source": [
    "# Importing necessary libraries\n",
    "import pandas as pd\n",
    "import numpy as np\n",
    "import matplotlib.pyplot as plt"
   ]
  },
  {
   "cell_type": "markdown",
   "metadata": {
    "id": "lDYDkH-Zs7Nn"
   },
   "source": [
    "## 1. Gather data\n",
    "\n",
    "In this section, you will extract data using two different data gathering methods and combine the data. Use at least two different types of data-gathering methods."
   ]
  },
  {
   "cell_type": "markdown",
   "metadata": {
    "id": "LbN7z7rcuqpO"
   },
   "source": [
    "### **1.1.** Problem Statement\n",
    "In 2-4 sentences, explain the kind of problem you want to look at and the datasets you will be wrangling for this project."
   ]
  },
  {
   "cell_type": "markdown",
   "metadata": {
    "id": "gi6swhjSYqu2"
   },
   "source": [
    "*FILL IN:* In this project, we hope to determine the correlation between air quality and weather patterns in urban areas. By comparing air quality data with weather data, we expect to find any existing trends or patterns that can be beneficial for urban planning and public health. The project will entail wrangling manually downloaded air quality data and programmatically downloaded weather data."
   ]
  },
  {
   "cell_type": "markdown",
   "metadata": {
    "id": "8AQfBAdUypMm"
   },
   "source": [
    "### **1.2.** Gather at least two datasets using two different data gathering methods\n",
    "\n",
    "List of data gathering methods:\n",
    "\n",
    "- Download data manually\n",
    "- Programmatically downloading files\n",
    "- Gather data by accessing APIs\n",
    "- Gather and extract data from HTML files using BeautifulSoup\n",
    "- Extract data from a SQL database\n",
    "\n",
    "Each dataset must have at least two variables, and have greater than 500 data samples within each dataset.\n",
    "\n",
    "For each dataset, briefly describe why you picked the dataset and the gathering method (2-3 full sentences), including the names and significance of the variables in the dataset. Show your work (e.g., if using an API to download the data, please include a snippet of your code). \n",
    "\n",
    "Load the dataset programmtically into this notebook."
   ]
  },
  {
   "cell_type": "markdown",
   "metadata": {
    "id": "7e6gS0wL1KTu"
   },
   "source": [
    "#### **Dataset 1:** Air Quality Data\n",
    "\n",
    "Type: CSV File (AirQualityUCI.csv)\n",
    "\n",
    "Method: Download data manually\n",
    "\n",
    "Description:\n",
    "For this data set, I myself downloaded the \"Air Quality UCI\" data set from the UCI Machine Learning Repository. It contains more than 9,000 examples and variables such as CO concentration (CO(GT)) and Benzene concentration (C6H6(GT)). I selected this data set because it offers an extensive number of air pollutant measurements over a sequence of time, which can be merged with weather data so that correlations can be tested. (https://archive.ics.uci.edu/dataset/360/air+quality)\n",
    "\n",
    "Dataset variables:\n",
    "\n",
    "*   Variable 1: CO(GT)\n",
    "\n",
    "This variable represents the true hourly average concentration of Carbon Monoxide (CO) in the air. It is measured in milligrams per cubic meter (mg/m³) and is a key indicator of air quality, especially in urban environments.\n",
    "\n",
    "*   Variable 2: C6H6(GT)\n",
    "\n",
    "This variable represents the true hourly average concentration of Benzene (C₆H₆) in the air. It is measured in micrograms per cubic meter (µg/m³) and serves as an important metric for assessing the presence of hazardous air pollutants."
   ]
  },
  {
   "cell_type": "code",
   "execution_count": 64,
   "metadata": {
    "id": "Su8E0uLuYkHU"
   },
   "outputs": [
    {
     "name": "stdout",
     "output_type": "stream",
     "text": [
      "Air Quality Dataset Head:\n",
      "         Date      Time CO(GT)  PT08.S1(CO)  NMHC(GT) C6H6(GT)  PT08.S2(NMHC)  \\\n",
      "0  10/03/2004  18.00.00    2,6       1360.0     150.0     11,9         1046.0   \n",
      "1  10/03/2004  19.00.00      2       1292.0     112.0      9,4          955.0   \n",
      "2  10/03/2004  20.00.00    2,2       1402.0      88.0      9,0          939.0   \n",
      "3  10/03/2004  21.00.00    2,2       1376.0      80.0      9,2          948.0   \n",
      "4  10/03/2004  22.00.00    1,6       1272.0      51.0      6,5          836.0   \n",
      "\n",
      "   NOx(GT)  PT08.S3(NOx)  NO2(GT)  PT08.S4(NO2)  PT08.S5(O3)     T    RH  \\\n",
      "0    166.0        1056.0    113.0        1692.0       1268.0  13,6  48,9   \n",
      "1    103.0        1174.0     92.0        1559.0        972.0  13,3  47,7   \n",
      "2    131.0        1140.0    114.0        1555.0       1074.0  11,9  54,0   \n",
      "3    172.0        1092.0    122.0        1584.0       1203.0  11,0  60,0   \n",
      "4    131.0        1205.0    116.0        1490.0       1110.0  11,2  59,6   \n",
      "\n",
      "       AH  Unnamed: 15  Unnamed: 16  \n",
      "0  0,7578          NaN          NaN  \n",
      "1  0,7255          NaN          NaN  \n",
      "2  0,7502          NaN          NaN  \n",
      "3  0,7867          NaN          NaN  \n",
      "4  0,7888          NaN          NaN  \n"
     ]
    }
   ],
   "source": [
    "#FILL IN 1st data gathering and loading method\n",
    "import pandas as pd\n",
    "\n",
    "# Load the data from the csv file\n",
    "air_quality_df = pd.read_csv('AirQualityUCI.csv', sep=';')\n",
    "print(\"Air Quality Dataset Head:\")\n",
    "print(air_quality_df.head())\n"
   ]
  },
  {
   "cell_type": "markdown",
   "metadata": {
    "id": "hoUjq1tPzz7P"
   },
   "source": [
    "#### **Dataset 2:** Weather Data\n",
    "\n",
    "Type: CSV File\n",
    "\n",
    "Method: Gather data by accessing APIs\n",
    "\n",
    "Dataset variables:\n",
    "\n",
    "This snippet loops over a set of cities and a range of dates to collect weather data, thereby ensuring that the total number of samples exceeds 500 (for example, 10 cities × 60 days = 600 samples). The variables collected are:\n",
    "\n",
    "*   city: The name of the city.\n",
    "*   date: The date when the data was recorded.\n",
    "*   temperature: The temperature in Celsius.\n",
    "*   humidity: The relative humidity percentage."
   ]
  },
  {
   "cell_type": "code",
   "execution_count": 65,
   "metadata": {
    "id": "6zT0QxRyYmm7"
   },
   "outputs": [
    {
     "name": "stdout",
     "output_type": "stream",
     "text": [
      "Weather Dataset Head:\n",
      "          city        date  temperature  humidity\n",
      "0     New York  2004-03-10        17.44        32\n",
      "1  Los Angeles  2004-03-10        19.77        39\n",
      "2      Chicago  2004-03-10        19.46        50\n",
      "3      Houston  2004-03-10        21.97        38\n",
      "4      Phoenix  2004-03-10        25.96        15\n"
     ]
    }
   ],
   "source": [
    "import requests\n",
    "import pandas as pd\n",
    "import time\n",
    "\n",
    "# List of example cities\n",
    "cities = ['New York', 'Los Angeles', 'Chicago', 'Houston', 'Phoenix', 'Philadelphia', 'San Antonio', 'San Diego', 'Dallas', 'San Jose']\n",
    "# List of dates for which we want to collect weather data\n",
    "dates = pd.date_range(start='2004-03-10', periods=60).strftime(\"%Y-%m-%d\").tolist()\n",
    "\n",
    "weather_data = []\n",
    "\n",
    "for date in dates:\n",
    "    for city in cities:\n",
    "        # Build the API query URL (for current weather, historical data may require a paid plan)\n",
    "        # Here, we simulate a request for current weather for demonstration.\n",
    "        url = f\"http://api.openweathermap.org/data/2.5/weather?q={city}&appid=389b1f45613f4ca0bab6a2eb9d5154ca&units=metric\"\n",
    "        response = requests.get(url)\n",
    "        if response.status_code == 200:\n",
    "            json_data = response.json()\n",
    "            # Append the collected data with the date and city information\n",
    "            weather_data.append({\n",
    "                'city': city,\n",
    "                'date': date,\n",
    "                'temperature': json_data['main']['temp'],\n",
    "                'humidity': json_data['main']['humidity']\n",
    "            })\n",
    "        else:\n",
    "            print(f\"Failed to retrieve data for {city} on {date}\")\n",
    "        time.sleep(1)  # Delay to respect API rate limits\n",
    "\n",
    "# Create a DataFrame from the collected weather data\n",
    "weather_df = pd.DataFrame(weather_data)\n",
    "print(\"Weather Dataset Head:\")\n",
    "print(weather_df.head())\n"
   ]
  },
  {
   "cell_type": "markdown",
   "metadata": {},
   "source": [
    "Optional data storing step: You may save your raw dataset files to the local data store before moving to the next step."
   ]
  },
  {
   "cell_type": "code",
   "execution_count": 66,
   "metadata": {},
   "outputs": [],
   "source": [
    "#Optional: store the raw data in your local data store\n",
    "weather_df.to_csv(\"raw_weather_data.csv\", index=False)"
   ]
  },
  {
   "cell_type": "markdown",
   "metadata": {
    "id": "QwSWIVmotLgV"
   },
   "source": [
    "## 2. Assess data\n",
    "\n",
    "Assess the data according to data quality and tidiness metrics using the report below.\n",
    "\n",
    "List **two** data quality issues and **two** tidiness issues. Assess each data issue visually **and** programmatically, then briefly describe the issue you find.  **Make sure you include justifications for the methods you use for the assessment.**"
   ]
  },
  {
   "cell_type": "markdown",
   "metadata": {
    "id": "adaK2iPNzVu4"
   },
   "source": [
    "### Quality Issue 1:"
   ]
  },
  {
   "cell_type": "code",
   "execution_count": 67,
   "metadata": {
    "id": "SpW59kh-zl8d"
   },
   "outputs": [
    {
     "name": "stdout",
     "output_type": "stream",
     "text": [
      "          city        date  temperature  humidity\n",
      "0     New York  2004-03-10        17.44        32\n",
      "1  Los Angeles  2004-03-10        19.77        39\n",
      "2      Chicago  2004-03-10        19.46        50\n",
      "3      Houston  2004-03-10        21.97        38\n",
      "4      Phoenix  2004-03-10        25.96        15\n"
     ]
    }
   ],
   "source": [
    "#FILL IN - Inspecting the dataframe visually\n",
    "print(weather_df.head())"
   ]
  },
  {
   "cell_type": "code",
   "execution_count": 68,
   "metadata": {
    "id": "-qfcocStzsKg"
   },
   "outputs": [
    {
     "name": "stdout",
     "output_type": "stream",
     "text": [
      "city           0\n",
      "date           0\n",
      "temperature    0\n",
      "humidity       0\n",
      "dtype: int64\n"
     ]
    }
   ],
   "source": [
    "#FILL IN - Inspecting the dataframe programmatically\n",
    "print(weather_df.isna().sum())"
   ]
  },
  {
   "cell_type": "markdown",
   "metadata": {},
   "source": [
    "Issue and justification: There are missing values in important variables, potentially leading to skewed statistics or errors in downstream analyses if not dealt with. Visual inspection of the leading rows functions to immediately alert suspected missing data, while isna().sum() gives an exact count per column. When the number of missing data is significant, you may need to consider imputation methods (e.g., mean/median imputation) or excluding affected rows to ensure data quality."
   ]
  },
  {
   "cell_type": "markdown",
   "metadata": {
    "id": "8Be77N4I1AmE"
   },
   "source": [
    "### Quality Issue 2:"
   ]
  },
  {
   "cell_type": "code",
   "execution_count": 69,
   "metadata": {
    "id": "iMhHyiyLM2I3"
   },
   "outputs": [
    {
     "name": "stdout",
     "output_type": "stream",
     "text": [
      "       temperature    humidity\n",
      "count   600.000000  600.000000\n",
      "mean     20.567483   35.365000\n",
      "std       2.711282   10.465067\n",
      "min      16.750000   15.000000\n",
      "25%      19.340000   30.000000\n",
      "50%      19.770000   36.000000\n",
      "75%      22.080000   41.000000\n",
      "max      26.350000   52.000000\n"
     ]
    }
   ],
   "source": [
    "#FILL IN - Inspecting the dataframe visually\n",
    "print(weather_df.describe())"
   ]
  },
  {
   "cell_type": "code",
   "execution_count": 70,
   "metadata": {
    "id": "bnviRCUI-bb7"
   },
   "outputs": [
    {
     "name": "stdout",
     "output_type": "stream",
     "text": [
      "95th percentile for temperature: 26.2\n",
      "5th percentile for temperature: 16.78\n"
     ]
    }
   ],
   "source": [
    "#FILL IN - Inspecting the dataframe programmatically\n",
    "# Identify potential outliers by examining the 95th percentile for temperature\n",
    "print(\"95th percentile for temperature:\", weather_df['temperature'].quantile(0.95))\n",
    "# Check the 5th percentile for lower outliers\n",
    "print(\"5th percentile for temperature:\", weather_df['temperature'].quantile(0.05))"
   ]
  },
  {
   "cell_type": "markdown",
   "metadata": {},
   "source": [
    "Issue and justification: Outliers in columns like temperature and humidity can skew the analysis, affecting mean values and correlations. Visual inspection via summary statistics provides a first look at potential extremes, and the quantile method programmatically confirms whether values fall outside a reasonable range. Additional steps might include visualizing the data with boxplots to better understand the distribution and deciding whether to cap, transform, or remove extreme values."
   ]
  },
  {
   "cell_type": "markdown",
   "metadata": {
    "id": "lXhGiYyiwwKN"
   },
   "source": [
    "### Tidiness Issue 1:"
   ]
  },
  {
   "cell_type": "code",
   "execution_count": 71,
   "metadata": {
    "id": "fleC5rORI0Xl"
   },
   "outputs": [
    {
     "name": "stdout",
     "output_type": "stream",
     "text": [
      "          city        date  temperature  humidity\n",
      "0     New York  2004-03-10        17.44        32\n",
      "1  Los Angeles  2004-03-10        19.77        39\n",
      "2      Chicago  2004-03-10        19.46        50\n",
      "3      Houston  2004-03-10        21.97        38\n",
      "4      Phoenix  2004-03-10        25.96        15\n"
     ]
    }
   ],
   "source": [
    "#FILL IN - Inspecting the dataframe visually\n",
    "print(weather_df.head())"
   ]
  },
  {
   "cell_type": "code",
   "execution_count": 72,
   "metadata": {
    "id": "BTuQw7Rbsio4"
   },
   "outputs": [
    {
     "name": "stdout",
     "output_type": "stream",
     "text": [
      "city            object\n",
      "date            object\n",
      "temperature    float64\n",
      "humidity         int64\n",
      "dtype: object\n"
     ]
    }
   ],
   "source": [
    "#FILL IN - Inspecting the dataframe programmatically\n",
    "print(weather_df.dtypes)"
   ]
  },
  {
   "cell_type": "markdown",
   "metadata": {},
   "source": [
    "Issue and justification: The date column is not of the proper datetime type, and this is undesirable for time-series analysis, filtering, and sorting. Visual examination suggests that the problem lies with formatting, while the check on data types justifies it. The date column needs to be converted to a datetime object to enable proper date-related operations, like: pd.to_datetime(weather_df['date'])."
   ]
  },
  {
   "cell_type": "markdown",
   "metadata": {
    "id": "4ffMoRGSwzYj"
   },
   "source": [
    "### Tidiness Issue 2: "
   ]
  },
  {
   "cell_type": "code",
   "execution_count": 73,
   "metadata": {
    "id": "XUpeoqokw5Qt"
   },
   "outputs": [
    {
     "name": "stdout",
     "output_type": "stream",
     "text": [
      "           city        date  temperature  humidity\n",
      "0      New York  2004-03-10        17.44        32\n",
      "1   Los Angeles  2004-03-10        19.77        39\n",
      "2       Chicago  2004-03-10        19.46        50\n",
      "3       Houston  2004-03-10        21.97        38\n",
      "4       Phoenix  2004-03-10        25.96        15\n",
      "5  Philadelphia  2004-03-10        19.34        31\n",
      "6   San Antonio  2004-03-10        23.38        26\n",
      "7     San Diego  2004-03-10        19.77        41\n",
      "8        Dallas  2004-03-10        21.88        30\n",
      "9      San Jose  2004-03-10        16.75        52\n"
     ]
    }
   ],
   "source": [
    "#FILL IN - Inspecting the dataframe visually\n",
    "print(weather_df.head(10))"
   ]
  },
  {
   "cell_type": "code",
   "execution_count": 74,
   "metadata": {
    "id": "c8JK4DoXxtFA"
   },
   "outputs": [
    {
     "name": "stdout",
     "output_type": "stream",
     "text": [
      "           city        date  temperature  humidity\n",
      "2       Chicago  2004-03-10        19.46        50\n",
      "8        Dallas  2004-03-10        21.88        30\n",
      "3       Houston  2004-03-10        21.97        38\n",
      "1   Los Angeles  2004-03-10        19.77        39\n",
      "0      New York  2004-03-10        17.44        32\n",
      "5  Philadelphia  2004-03-10        19.34        31\n",
      "4       Phoenix  2004-03-10        25.96        15\n",
      "6   San Antonio  2004-03-10        23.38        26\n",
      "7     San Diego  2004-03-10        19.77        41\n",
      "9      San Jose  2004-03-10        16.75        52\n"
     ]
    }
   ],
   "source": [
    "#FILL IN - Inspecting the dataframe programmatically\n",
    "sorted_df = weather_df.sort_values(by=['date', 'city'])\n",
    "print(sorted_df.head(10))"
   ]
  },
  {
   "cell_type": "markdown",
   "metadata": {},
   "source": [
    "Issue and justification: The data isn't sorted, so it is less intuitive to look for trends over time or compare data city by city. Visual inspection hints at chaos, and programmatic sorting of the data indicates the issue. Sorting the data set (and resetting the index, if needed) will enhance clarity, improve group-based operations, and facilitate later analysis."
   ]
  },
  {
   "cell_type": "markdown",
   "metadata": {
    "id": "D6gmLnBttpCh"
   },
   "source": [
    "## 3. Clean data\n",
    "Clean the data to solve the 4 issues corresponding to data quality and tidiness found in the assessing step. **Make sure you include justifications for your cleaning decisions.**\n",
    "\n",
    "After the cleaning for each issue, please use **either** the visually or programatical method to validate the cleaning was succesful.\n",
    "\n",
    "At this stage, you are also expected to remove variables that are unnecessary for your analysis and combine your datasets. Depending on your datasets, you may choose to perform variable combination and elimination before or after the cleaning stage. Your dataset must have **at least** 4 variables after combining the data."
   ]
  },
  {
   "cell_type": "code",
   "execution_count": 75,
   "metadata": {},
   "outputs": [],
   "source": [
    "# FILL IN - Make copies of the datasets to ensure the raw dataframes \n",
    "# are not impacted\n",
    "aq_df_clean = air_quality_df.copy()\n",
    "weather_df_clean = weather_df.copy()"
   ]
  },
  {
   "cell_type": "code",
   "execution_count": 76,
   "metadata": {},
   "outputs": [
    {
     "name": "stdout",
     "output_type": "stream",
     "text": [
      "Air Quality missing values:\n",
      " CO(GT)      0\n",
      "C6H6(GT)    0\n",
      "dtype: int64\n",
      "Weather missing values:\n",
      " temperature    0\n",
      "humidity       0\n",
      "dtype: int64\n"
     ]
    }
   ],
   "source": [
    "# Convert string values with commas to numeric values for key pollutant columns\n",
    "aq_df_clean['CO(GT)'] = aq_df_clean['CO(GT)'].str.replace(',', '.').astype(float)\n",
    "aq_df_clean['C6H6(GT)'] = aq_df_clean['C6H6(GT)'].str.replace(',', '.').astype(float)\n",
    "\n",
    "# Now, fill missing values using the median\n",
    "aq_df_clean['CO(GT)'] = aq_df_clean['CO(GT)'].fillna(aq_df_clean['CO(GT)'].median())\n",
    "aq_df_clean['C6H6(GT)'] = aq_df_clean['C6H6(GT)'].fillna(aq_df_clean['C6H6(GT)'].median())\n",
    "\n",
    "# For weather data: Fill missing temperature and humidity values\n",
    "weather_df_clean['temperature'] = weather_df_clean['temperature'].fillna(weather_df_clean['temperature'].median())\n",
    "weather_df_clean['humidity'] = weather_df_clean['humidity'].fillna(weather_df_clean['humidity'].median())\n",
    "\n",
    "# Validate the cleaning was successful by checking for any remaining missing values:\n",
    "print(\"Air Quality missing values:\\n\", aq_df_clean[['CO(GT)', 'C6H6(GT)']].isna().sum())\n",
    "print(\"Weather missing values:\\n\", weather_df_clean[['temperature', 'humidity']].isna().sum())"
   ]
  },
  {
   "cell_type": "markdown",
   "metadata": {},
   "source": [
    "Data Type Conversion: Replacing commas with periods and changing the columns to float so that data is in appropriate numeric format. This is because numeric functions like finding the median require the data to be of numeric type.\n",
    "\n",
    "Missing Value Imputation: Conversion of columns to floats followed by imputation with the median keeps the central tendency of the data intact without any influence of outliers.\n",
    "\n",
    "Validation: Confirmation using isna().sum() ensures that no missing values remain in the key variables post-cleaning."
   ]
  },
  {
   "cell_type": "markdown",
   "metadata": {
    "id": "FmFhN52Yyn3l"
   },
   "source": [
    "### **Quality Issue 1: FILL IN**"
   ]
  },
  {
   "cell_type": "code",
   "execution_count": 77,
   "metadata": {
    "id": "9UejDWrNMW4a"
   },
   "outputs": [],
   "source": [
    "# FILL IN - Apply the cleaning strategy\n",
    "# For weather data: Fill missing temperature and humidity values\n",
    "weather_df_clean['temperature'] = weather_df_clean['temperature'].fillna(weather_df_clean['temperature'].median())\n",
    "weather_df_clean['humidity'] = weather_df_clean['humidity'].fillna(weather_df_clean['humidity'].median())\n",
    "\n",
    "# For air quality data: Fill missing values in key pollutant measurements\n",
    "aq_df_clean['CO(GT)'] = aq_df_clean['CO(GT)'].fillna(aq_df_clean['CO(GT)'].median())\n",
    "aq_df_clean['C6H6(GT)'] = aq_df_clean['C6H6(GT)'].fillna(aq_df_clean['C6H6(GT)'].median())"
   ]
  },
  {
   "cell_type": "code",
   "execution_count": 78,
   "metadata": {
    "id": "oUBee-LPytkv"
   },
   "outputs": [
    {
     "name": "stdout",
     "output_type": "stream",
     "text": [
      "Weather missing values:\n",
      " city           0\n",
      "date           0\n",
      "temperature    0\n",
      "humidity       0\n",
      "dtype: int64\n",
      "Air Quality missing values:\n",
      " Date              114\n",
      "Time              114\n",
      "CO(GT)              0\n",
      "PT08.S1(CO)       114\n",
      "NMHC(GT)          114\n",
      "C6H6(GT)            0\n",
      "PT08.S2(NMHC)     114\n",
      "NOx(GT)           114\n",
      "PT08.S3(NOx)      114\n",
      "NO2(GT)           114\n",
      "PT08.S4(NO2)      114\n",
      "PT08.S5(O3)       114\n",
      "T                 114\n",
      "RH                114\n",
      "AH                114\n",
      "Unnamed: 15      9471\n",
      "Unnamed: 16      9471\n",
      "dtype: int64\n"
     ]
    }
   ],
   "source": [
    "# FILL IN - Validate the cleaning was successful\n",
    "# Validate by checking the count of missing values programmatically\n",
    "print(\"Weather missing values:\\n\", weather_df_clean.isna().sum())\n",
    "print(\"Air Quality missing values:\\n\", aq_df_clean.isna().sum())"
   ]
  },
  {
   "cell_type": "markdown",
   "metadata": {},
   "source": [
    "Justification: Missing value imputation via the median will not let outliers taint outcomes and still keep the central tendency. Missing data are skewed and have the potential to result in flawed any statistics or subsequent machine learning-based models and thus replacing missing values is vital."
   ]
  },
  {
   "cell_type": "markdown",
   "metadata": {
    "id": "n_DAUbJrymBL"
   },
   "source": [
    "### **Quality Issue 2: FILL IN**"
   ]
  },
  {
   "cell_type": "code",
   "execution_count": 79,
   "metadata": {
    "id": "5Yfb-Yu5MTuE"
   },
   "outputs": [],
   "source": [
    "#FILL IN - Apply the cleaning strategy\n",
    "# For temperature in weather data:\n",
    "Q1_temp = weather_df_clean['temperature'].quantile(0.25)\n",
    "Q3_temp = weather_df_clean['temperature'].quantile(0.75)\n",
    "IQR_temp = Q3_temp - Q1_temp\n",
    "lower_bound_temp = Q1_temp - 1.5 * IQR_temp\n",
    "upper_bound_temp = Q3_temp + 1.5 * IQR_temp\n",
    "\n",
    "# For humidity in weather data:\n",
    "Q1_hum = weather_df_clean['humidity'].quantile(0.25)\n",
    "Q3_hum = weather_df_clean['humidity'].quantile(0.75)\n",
    "IQR_hum = Q3_hum - Q1_hum\n",
    "lower_bound_hum = Q1_hum - 1.5 * IQR_hum\n",
    "upper_bound_hum = Q3_hum + 1.5 * IQR_hum\n",
    "\n",
    "# Filter the weather data to remove outliers\n",
    "weather_df_clean = weather_df_clean[(weather_df_clean['temperature'] >= lower_bound_temp) & (weather_df_clean['temperature'] <= upper_bound_temp)]\n",
    "weather_df_clean = weather_df_clean[(weather_df_clean['humidity'] >= lower_bound_hum) & (weather_df_clean['humidity'] <= upper_bound_hum)]"
   ]
  },
  {
   "cell_type": "code",
   "execution_count": 80,
   "metadata": {
    "id": "ionB2sRaMUmY"
   },
   "outputs": [
    {
     "name": "stdout",
     "output_type": "stream",
     "text": [
      "       temperature    humidity\n",
      "count   552.000000  552.000000\n",
      "mean     20.075489   37.135870\n",
      "std       2.227083    8.932374\n",
      "min      16.750000   15.000000\n",
      "25%      19.290000   31.000000\n",
      "50%      19.710000   38.000000\n",
      "75%      21.970000   41.000000\n",
      "max      25.960000   52.000000\n"
     ]
    }
   ],
   "source": [
    "#FILL IN - Validate the cleaning was successful\n",
    "# Validate by inspecting summary statistics to ensure the extreme values have been removed\n",
    "print(weather_df_clean.describe())"
   ]
  },
  {
   "cell_type": "markdown",
   "metadata": {},
   "source": [
    "Justification: Outliers can distort statistical summaries and model fitting. The IQR method is a common method to identify and remove unusual values that are far from the normal distribution so that subsequent analyses are more robust."
   ]
  },
  {
   "cell_type": "markdown",
   "metadata": {
    "id": "bIUrrfSNyOPR"
   },
   "source": [
    "### **Tidiness Issue 1: FILL IN**"
   ]
  },
  {
   "cell_type": "code",
   "execution_count": 81,
   "metadata": {
    "id": "fib0zAm333bn"
   },
   "outputs": [],
   "source": [
    "#FILL IN - Apply the cleaning strategy\n",
    "# Convert the date column in weather data to datetime\n",
    "weather_df_clean['date'] = pd.to_datetime(weather_df_clean['date'], errors='coerce')\n",
    "\n",
    "# Convert the date column in air quality data (rename to 'date' for consistency)\n",
    "aq_df_clean['Date'] = pd.to_datetime(aq_df_clean['Date'], errors='coerce')\n",
    "aq_df_clean.rename(columns={'Date': 'date'}, inplace=True)"
   ]
  },
  {
   "cell_type": "code",
   "execution_count": 82,
   "metadata": {
    "id": "yhrnUGY_Nk8B"
   },
   "outputs": [
    {
     "name": "stdout",
     "output_type": "stream",
     "text": [
      "city                   object\n",
      "date           datetime64[ns]\n",
      "temperature           float64\n",
      "humidity                int64\n",
      "dtype: object\n",
      "date             datetime64[ns]\n",
      "Time                     object\n",
      "CO(GT)                  float64\n",
      "PT08.S1(CO)             float64\n",
      "NMHC(GT)                float64\n",
      "C6H6(GT)                float64\n",
      "PT08.S2(NMHC)           float64\n",
      "NOx(GT)                 float64\n",
      "PT08.S3(NOx)            float64\n",
      "NO2(GT)                 float64\n",
      "PT08.S4(NO2)            float64\n",
      "PT08.S5(O3)             float64\n",
      "T                        object\n",
      "RH                       object\n",
      "AH                       object\n",
      "Unnamed: 15             float64\n",
      "Unnamed: 16             float64\n",
      "dtype: object\n"
     ]
    }
   ],
   "source": [
    "#FILL IN - Validate the cleaning was successful\n",
    "# Validate by checking data types programmatically\n",
    "print(weather_df_clean.dtypes)\n",
    "print(aq_df_clean.dtypes)"
   ]
  },
  {
   "cell_type": "markdown",
   "metadata": {},
   "source": [
    "Justification: Date formatting in the right way is essential for time-series analysis. Converting to datetime ensures that filtering, sorting, or merging based on date is properly accomplished, reducing the likelihood of error in the subsequent steps of analysis."
   ]
  },
  {
   "cell_type": "markdown",
   "metadata": {
    "id": "o51Bt8kwyTzk"
   },
   "source": [
    "### **Tidiness Issue 2: FILL IN**"
   ]
  },
  {
   "cell_type": "code",
   "execution_count": 83,
   "metadata": {
    "id": "7zW8O5yx4Y9O"
   },
   "outputs": [],
   "source": [
    "#FILL IN - Apply the cleaning strategy\n",
    "# Sort weather data by date and city\n",
    "weather_df_clean = weather_df_clean.sort_values(by=['date', 'city']).reset_index(drop=True)\n",
    "\n",
    "# Sort air quality data by date\n",
    "aq_df_clean = aq_df_clean.sort_values(by=['date']).reset_index(drop=True)"
   ]
  },
  {
   "cell_type": "code",
   "execution_count": 84,
   "metadata": {
    "id": "q6I_Sr7lxXi5"
   },
   "outputs": [
    {
     "name": "stdout",
     "output_type": "stream",
     "text": [
      "           city       date  temperature  humidity\n",
      "0       Chicago 2004-03-10        19.46        50\n",
      "1        Dallas 2004-03-10        21.88        30\n",
      "2       Houston 2004-03-10        21.97        38\n",
      "3   Los Angeles 2004-03-10        19.77        39\n",
      "4      New York 2004-03-10        17.44        32\n",
      "5  Philadelphia 2004-03-10        19.34        31\n",
      "6       Phoenix 2004-03-10        25.96        15\n",
      "7   San Antonio 2004-03-10        23.38        26\n",
      "8     San Diego 2004-03-10        19.77        41\n",
      "9      San Jose 2004-03-10        16.75        52\n",
      "        date      Time  CO(GT)  PT08.S1(CO)  NMHC(GT)  C6H6(GT)  \\\n",
      "0 2004-01-04  17.00.00     3.3       1308.0     388.0      16.4   \n",
      "1 2004-01-04  00.00.00     1.6       1143.0     106.0       6.3   \n",
      "2 2004-01-04  01.00.00     1.2       1044.0     100.0       5.1   \n",
      "3 2004-01-04  02.00.00     1.1       1034.0      71.0       4.1   \n",
      "4 2004-01-04  03.00.00     0.9        956.0      72.0       4.0   \n",
      "5 2004-01-04  04.00.00     0.7        909.0      44.0       2.4   \n",
      "6 2004-01-04  05.00.00     0.9        996.0      45.0       2.9   \n",
      "7 2004-01-04  07.00.00     4.2       1510.0     505.0      19.8   \n",
      "8 2004-01-04  08.00.00     6.2       1722.0    1042.0      31.9   \n",
      "9 2004-01-04  09.00.00     4.6       1512.0     737.0      21.0   \n",
      "\n",
      "   PT08.S2(NMHC)  NOx(GT)  PT08.S3(NOx)  NO2(GT)  PT08.S4(NO2)  PT08.S5(O3)  \\\n",
      "0         1193.0    163.0         793.0    106.0        1193.0       1187.0   \n",
      "1          825.0     96.0         986.0     86.0        1477.0        978.0   \n",
      "2          770.0     85.0        1031.0     70.0        1425.0        944.0   \n",
      "3          716.0     50.0        1085.0     55.0        1405.0        891.0   \n",
      "4          713.0   -200.0        1099.0   -200.0        1422.0        849.0   \n",
      "5          615.0     57.0        1237.0     49.0        1322.0        790.0   \n",
      "6          648.0     64.0        1176.0     50.0        1340.0        852.0   \n",
      "7         1291.0    342.0         675.0     94.0        1949.0       1435.0   \n",
      "8         1595.0    378.0         539.0    119.0        2439.0       1798.0   \n",
      "9         1323.0    304.0         631.0    139.0        2001.0       1677.0   \n",
      "\n",
      "      T    RH      AH  Unnamed: 15  Unnamed: 16  \n",
      "0  23,6  27,5  0,7913          NaN          NaN  \n",
      "1  12,0  61,6  0,8593          NaN          NaN  \n",
      "2  11,5  63,9  0,8652          NaN          NaN  \n",
      "3  10,7  67,2  0,8630          NaN          NaN  \n",
      "4   9,0  73,1  0,8394          NaN          NaN  \n",
      "5  10,2  66,6  0,8299          NaN          NaN  \n",
      "6  11,0  63,7  0,8325          NaN          NaN  \n",
      "7   9,5  69,6  0,8273          NaN          NaN  \n",
      "8  11,9  60,9  0,8455          NaN          NaN  \n",
      "9  16,2  48,6  0,8892          NaN          NaN  \n"
     ]
    }
   ],
   "source": [
    "#FILL IN - Validate the cleaning was successful\n",
    "# Validate by visually inspecting the first few rows of the sorted data\n",
    "print(weather_df_clean.head(10))\n",
    "print(aq_df_clean.head(10))"
   ]
  },
  {
   "cell_type": "markdown",
   "metadata": {},
   "source": [
    "Justification: Sorting the data also makes chronological trends and patterns more apparent. It also simplifies the merging process by enabling the alignment of dates across datasets to be easy and reducing the possibility of mismatches."
   ]
  },
  {
   "cell_type": "markdown",
   "metadata": {},
   "source": [
    "### **Remove unnecessary variables and combine datasets**\n",
    "\n",
    "Depending on the datasets, you can also peform the combination before the cleaning steps."
   ]
  },
  {
   "cell_type": "code",
   "execution_count": 85,
   "metadata": {},
   "outputs": [
    {
     "name": "stdout",
     "output_type": "stream",
     "text": [
      "Combined DataFrame columns: Index(['date', 'city', 'temperature', 'humidity', 'CO(GT)', 'C6H6(GT)'], dtype='object')\n",
      "        date     city  temperature  humidity  CO(GT)  C6H6(GT)\n",
      "0 2004-03-10  Chicago        19.46        50  -200.0       7.5\n",
      "1 2004-03-10  Chicago        19.46        50  -200.0      10.7\n",
      "2 2004-03-10  Chicago        19.46        50  -200.0       8.4\n",
      "3 2004-03-10  Chicago        19.46        50  -200.0      11.3\n",
      "4 2004-03-10  Chicago        19.46        50  -200.0       7.8\n"
     ]
    }
   ],
   "source": [
    "#FILL IN - Remove unnecessary variables and combine datasets\n",
    "# Select only the necessary variables for analysis\n",
    "aq_df_clean = aq_df_clean[['date', 'CO(GT)', 'C6H6(GT)']]\n",
    "weather_df_clean = weather_df_clean[['date', 'city', 'temperature', 'humidity']]\n",
    "\n",
    "# Merge the datasets on the date column (using a left join to keep all weather records)\n",
    "combined_df = pd.merge(weather_df_clean, aq_df_clean, on='date', how='left')\n",
    "\n",
    "# Validate that the combined dataframe has at least 4 variables\n",
    "print(\"Combined DataFrame columns:\", combined_df.columns)\n",
    "print(combined_df.head())"
   ]
  },
  {
   "cell_type": "markdown",
   "metadata": {},
   "source": [
    "Eliminating unused variables decreases noise and focuses your analysis on the appropriate indicators. Rotating both dataframes into a common date variable allows you to investigate weather parameter versus air quality readings correlation. The resulting union dataframe contains multiple variables (i.e., date, city, temperature, humidity, CO(GT), and C6H6(GT)), which means you now have the data needed for your research."
   ]
  },
  {
   "cell_type": "code",
   "execution_count": 86,
   "metadata": {},
   "outputs": [
    {
     "name": "stdout",
     "output_type": "stream",
     "text": [
      "CO(GT)      float64\n",
      "C6H6(GT)    float64\n",
      "dtype: object\n"
     ]
    }
   ],
   "source": [
    "# Confirm that the columns for air quality (e.g., CO(GT) and C6H6(GT)) are now of a numeric type.\n",
    "print(aq_df_clean[['CO(GT)', 'C6H6(GT)']].dtypes)"
   ]
  },
  {
   "cell_type": "code",
   "execution_count": 87,
   "metadata": {},
   "outputs": [
    {
     "name": "stdout",
     "output_type": "stream",
     "text": [
      "Air Quality missing values:\n",
      " CO(GT)      0\n",
      "C6H6(GT)    0\n",
      "dtype: int64\n",
      "Weather missing values:\n",
      " temperature    0\n",
      "humidity       0\n",
      "dtype: int64\n"
     ]
    }
   ],
   "source": [
    "# Verify that there are no missing values in the key columns.\n",
    "print(\"Air Quality missing values:\\n\", aq_df_clean[['CO(GT)', 'C6H6(GT)']].isna().sum())\n",
    "print(\"Weather missing values:\\n\", weather_df_clean[['temperature', 'humidity']].isna().sum())"
   ]
  },
  {
   "cell_type": "code",
   "execution_count": 88,
   "metadata": {},
   "outputs": [
    {
     "name": "stdout",
     "output_type": "stream",
     "text": [
      "        date  CO(GT)  C6H6(GT)\n",
      "0 2004-01-04     3.3      16.4\n",
      "1 2004-01-04     1.6       6.3\n",
      "2 2004-01-04     1.2       5.1\n",
      "3 2004-01-04     1.1       4.1\n",
      "4 2004-01-04     0.9       4.0\n",
      "        date         city  temperature  humidity\n",
      "0 2004-03-10      Chicago        19.46        50\n",
      "1 2004-03-10       Dallas        21.88        30\n",
      "2 2004-03-10      Houston        21.97        38\n",
      "3 2004-03-10  Los Angeles        19.77        39\n",
      "4 2004-03-10     New York        17.44        32\n"
     ]
    }
   ],
   "source": [
    "# Check the first few rows of your cleaned data to ensure that the values are formatted correctly.\n",
    "print(aq_df_clean.head())\n",
    "print(weather_df_clean.head())"
   ]
  },
  {
   "cell_type": "code",
   "execution_count": 89,
   "metadata": {},
   "outputs": [
    {
     "name": "stdout",
     "output_type": "stream",
     "text": [
      "date        datetime64[ns]\n",
      "CO(GT)             float64\n",
      "C6H6(GT)           float64\n",
      "dtype: object\n",
      "date           datetime64[ns]\n",
      "city                   object\n",
      "temperature           float64\n",
      "humidity                int64\n",
      "dtype: object\n",
      "        date  CO(GT)  C6H6(GT)\n",
      "0 2004-01-04     3.3      16.4\n",
      "1 2004-01-04     1.6       6.3\n",
      "2 2004-01-04     1.2       5.1\n",
      "3 2004-01-04     1.1       4.1\n",
      "4 2004-01-04     0.9       4.0\n",
      "5 2004-01-04     0.7       2.4\n",
      "6 2004-01-04     0.9       2.9\n",
      "7 2004-01-04     4.2      19.8\n",
      "8 2004-01-04     6.2      31.9\n",
      "9 2004-01-04     4.6      21.0\n",
      "        date          city  temperature  humidity\n",
      "0 2004-03-10       Chicago        19.46        50\n",
      "1 2004-03-10        Dallas        21.88        30\n",
      "2 2004-03-10       Houston        21.97        38\n",
      "3 2004-03-10   Los Angeles        19.77        39\n",
      "4 2004-03-10      New York        17.44        32\n",
      "5 2004-03-10  Philadelphia        19.34        31\n",
      "6 2004-03-10       Phoenix        25.96        15\n",
      "7 2004-03-10   San Antonio        23.38        26\n",
      "8 2004-03-10     San Diego        19.77        41\n",
      "9 2004-03-10      San Jose        16.75        52\n"
     ]
    }
   ],
   "source": [
    "# Checking the data types and the first 10 rows of the cleaned air quality and weather dataframes\n",
    "print(aq_df_clean.dtypes)\n",
    "print(weather_df_clean.dtypes)\n",
    "print(aq_df_clean.head(10))\n",
    "print(weather_df_clean.head(10))"
   ]
  },
  {
   "cell_type": "markdown",
   "metadata": {
    "id": "F42urHuzttjF"
   },
   "source": [
    "## 4. Update your data store\n",
    "Update your local database/data store with the cleaned data, following best practices for storing your cleaned data:\n",
    "\n",
    "- Must maintain different instances / versions of data (raw and cleaned data)\n",
    "- Must name the dataset files informatively\n",
    "- Ensure both the raw and cleaned data is saved to your database/data store"
   ]
  },
  {
   "cell_type": "code",
   "execution_count": 90,
   "metadata": {
    "id": "V3uay7EJUV_L"
   },
   "outputs": [],
   "source": [
    "#FILL IN - saving data\n",
    "air_quality_df.to_csv(\"raw_air_quality_data.csv\", index=False)\n",
    "weather_df.to_csv(\"raw_weather_data.csv\", index=False)\n",
    "\n",
    "# Save cleaned data\n",
    "aq_df_clean.to_csv(\"clean_air_quality_data.csv\", index=False)\n",
    "weather_df_clean.to_csv(\"clean_weather_data.csv\", index=False)\n",
    "\n",
    "# Save the combined cleaned dataset\n",
    "combined_df.to_csv(\"combined_cleaned_data.csv\", index=False)"
   ]
  },
  {
   "cell_type": "markdown",
   "metadata": {
    "id": "cGy_yddGtzhM"
   },
   "source": [
    "## 5. Answer the research question\n",
    "\n",
    "### **5.1:** Define and answer the research question \n",
    "Going back to the problem statement in step 1, use the cleaned data to answer the question you raised. Produce **at least** two visualizations using the cleaned data and explain how they help you answer the question."
   ]
  },
  {
   "cell_type": "markdown",
   "metadata": {
    "id": "gjedE4s4ZkEd"
   },
   "source": [
    "*Research question:* What is the relationship between weather conditions (humidity and temperature) and air quality (by levels of CO and Benzene) in urban areas?"
   ]
  },
  {
   "cell_type": "code",
   "execution_count": 91,
   "metadata": {
    "id": "Lkw3rW9kZmOm"
   },
   "outputs": [
    {
     "data": {
      "image/png": "[encoded data removed]",
      "text/plain": [
       "<Figure size 800x600 with 1 Axes>"
      ]
     },
     "metadata": {},
     "output_type": "display_data"
    }
   ],
   "source": [
    "#Visual 1 - Scatter Plot: Temperature vs. CO Concentration\n",
    "import matplotlib.pyplot as plt\n",
    "\n",
    "plt.figure(figsize=(8, 6))\n",
    "plt.scatter(combined_df['temperature'], combined_df['CO(GT)'], alpha=0.6, edgecolor='k')\n",
    "plt.xlabel(\"Temperature (°C)\")\n",
    "plt.ylabel(\"CO Concentration (mg/m³)\")\n",
    "plt.title(\"Scatter Plot of Temperature vs. CO Concentration\")\n",
    "plt.grid(True)\n",
    "plt.show()"
   ]
  },
  {
   "cell_type": "markdown",
   "metadata": {},
   "source": [
    "*Answer to research question:* The scatter plot reveals that there is a trend whereby rising temperatures would have rising CO concentrations, and it would therefore be an indication that warmer temperatures could be related to higher CO concentrations. However, the relationship is not necessarily linear, meaning other variables (e.g., industrial emissions or traffic flows) would also influence CO concentrations."
   ]
  },
  {
   "cell_type": "code",
   "execution_count": 92,
   "metadata": {
    "id": "6fdK_8ZGZm9R"
   },
   "outputs": [
    {
     "data": {
      "image/png": "[encoded data removed]",
      "text/plain": [
       "<Figure size 1000x600 with 1 Axes>"
      ]
     },
     "metadata": {},
     "output_type": "display_data"
    }
   ],
   "source": [
    "#Visual 2 - Line Plot: Daily Average CO Concentration Over Time\n",
    "# Calculate daily average CO concentration across all cities\n",
    "daily_avg = combined_df.groupby('date')['CO(GT)'].mean().reset_index()\n",
    "\n",
    "plt.figure(figsize=(10, 6))\n",
    "plt.plot(daily_avg['date'], daily_avg['CO(GT)'], marker='o', linestyle='-', color='b')\n",
    "plt.xlabel(\"Date\")\n",
    "plt.ylabel(\"Average CO Concentration (mg/m³)\")\n",
    "plt.title(\"Daily Average CO Concentration Over Time\")\n",
    "plt.xticks(rotation=45)\n",
    "plt.grid(True)\n",
    "plt.tight_layout()\n",
    "plt.show()\n"
   ]
  },
  {
   "cell_type": "markdown",
   "metadata": {
    "id": "K5RgvMGUZoHn"
   },
   "source": [
    "*Answer to research question:* The line graph shows variation in daily mean CO levels over the sampled period. These fluctuations suggest that temporal air quality changes may be coupled with temporal weather condition changes. For instance, periods of high temperatures or different humidity levels could be influencing the CO concentrations observed."
   ]
  },
  {
   "cell_type": "markdown",
   "metadata": {},
   "source": [
    "Together, the visualizations suggest that weather and air quality in urban areas are interlinked, with temperature showing a strong relation to CO levels. Although the data confirm the hypothesis that warmer conditions are associated with higher CO levels, further investigation (e.g., using regression analyses) is needed to ascertain the nature of the association and to account for other potential contributing variables."
   ]
  },
  {
   "cell_type": "markdown",
   "metadata": {
    "id": "0ezWXXZVj-TP"
   },
   "source": [
    "### **5.2:** Reflection\n",
    "In 2-4 sentences, if you had more time to complete the project, what actions would you take? For example, which data quality and structural issues would you look into further, and what research questions would you further explore?"
   ]
  },
  {
   "cell_type": "markdown",
   "metadata": {
    "id": "XB3RBDG5kFe1"
   },
   "source": [
    "*Answer:* With more time, I would examine more issues of data quality such as outliers and data consistency issues and refine the cleaning process for other variables. I would also explore more research questions by using advanced statistical methods to quantify how season and severe weather conditions influence urban air quality."
   ]
  }
 ],
 "metadata": {
  "colab": {
   "provenance": []
  },
  "kernelspec": {
   "display_name": "base",
   "language": "python",
   "name": "python3"
  },
  "language_info": {
   "codemirror_mode": {
    "name": "ipython",
    "version": 3
   },
   "file_extension": ".py",
   "mimetype": "text/x-python",
   "name": "python",
   "nbconvert_exporter": "python",
   "pygments_lexer": "ipython3",
   "version": "3.12.7"
  }
 },
 "nbformat": 4,
 "nbformat_minor": 1
}
